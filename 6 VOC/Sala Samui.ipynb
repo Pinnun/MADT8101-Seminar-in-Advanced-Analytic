{
 "cells": [
  {
   "cell_type": "code",
   "execution_count": 1,
   "id": "943baac0",
   "metadata": {},
   "outputs": [
    {
     "name": "stdout",
     "output_type": "stream",
     "text": [
      "Requirement already satisfied: pythainlp in c:\\users\\nunna\\anaconda3\\lib\\site-packages (4.1.0b1)\n",
      "Requirement already satisfied: requests>=2.22.0 in c:\\users\\nunna\\anaconda3\\lib\\site-packages (from pythainlp) (2.28.1)\n",
      "Requirement already satisfied: urllib3<1.27,>=1.21.1 in c:\\users\\nunna\\anaconda3\\lib\\site-packages (from requests>=2.22.0->pythainlp) (1.26.14)\n",
      "Requirement already satisfied: idna<4,>=2.5 in c:\\users\\nunna\\anaconda3\\lib\\site-packages (from requests>=2.22.0->pythainlp) (3.4)\n",
      "Requirement already satisfied: certifi>=2017.4.17 in c:\\users\\nunna\\anaconda3\\lib\\site-packages (from requests>=2.22.0->pythainlp) (2022.12.7)\n",
      "Requirement already satisfied: charset-normalizer<3,>=2 in c:\\users\\nunna\\anaconda3\\lib\\site-packages (from requests>=2.22.0->pythainlp) (2.0.4)\n",
      "Requirement already satisfied: pyLDAvis in c:\\users\\nunna\\anaconda3\\lib\\site-packages (3.4.1)\n",
      "Requirement already satisfied: scipy in c:\\users\\nunna\\anaconda3\\lib\\site-packages (from pyLDAvis) (1.10.0)\n",
      "Requirement already satisfied: scikit-learn>=1.0.0 in c:\\users\\nunna\\anaconda3\\lib\\site-packages (from pyLDAvis) (1.2.1)\n",
      "Requirement already satisfied: setuptools in c:\\users\\nunna\\anaconda3\\lib\\site-packages (from pyLDAvis) (65.6.3)\n",
      "Requirement already satisfied: numpy>=1.24.2 in c:\\users\\nunna\\anaconda3\\lib\\site-packages (from pyLDAvis) (1.25.1)\n",
      "Requirement already satisfied: funcy in c:\\users\\nunna\\anaconda3\\lib\\site-packages (from pyLDAvis) (2.0)\n",
      "Requirement already satisfied: numexpr in c:\\users\\nunna\\anaconda3\\lib\\site-packages (from pyLDAvis) (2.8.4)\n",
      "Requirement already satisfied: jinja2 in c:\\users\\nunna\\anaconda3\\lib\\site-packages (from pyLDAvis) (3.1.2)\n",
      "Requirement already satisfied: pandas>=2.0.0 in c:\\users\\nunna\\anaconda3\\lib\\site-packages (from pyLDAvis) (2.0.3)\n",
      "Requirement already satisfied: gensim in c:\\users\\nunna\\anaconda3\\lib\\site-packages (from pyLDAvis) (4.3.0)\n",
      "Requirement already satisfied: joblib>=1.2.0 in c:\\users\\nunna\\anaconda3\\lib\\site-packages (from pyLDAvis) (1.3.1)\n",
      "Requirement already satisfied: pytz>=2020.1 in c:\\users\\nunna\\anaconda3\\lib\\site-packages (from pandas>=2.0.0->pyLDAvis) (2022.7)\n",
      "Requirement already satisfied: python-dateutil>=2.8.2 in c:\\users\\nunna\\anaconda3\\lib\\site-packages (from pandas>=2.0.0->pyLDAvis) (2.8.2)\n",
      "Requirement already satisfied: tzdata>=2022.1 in c:\\users\\nunna\\anaconda3\\lib\\site-packages (from pandas>=2.0.0->pyLDAvis) (2023.3)\n",
      "Requirement already satisfied: threadpoolctl>=2.0.0 in c:\\users\\nunna\\anaconda3\\lib\\site-packages (from scikit-learn>=1.0.0->pyLDAvis) (2.2.0)\n",
      "Requirement already satisfied: smart-open>=1.8.1 in c:\\users\\nunna\\anaconda3\\lib\\site-packages (from gensim->pyLDAvis) (5.2.1)\n",
      "Requirement already satisfied: FuzzyTM>=0.4.0 in c:\\users\\nunna\\anaconda3\\lib\\site-packages (from gensim->pyLDAvis) (2.0.5)\n",
      "Requirement already satisfied: MarkupSafe>=2.0 in c:\\users\\nunna\\anaconda3\\lib\\site-packages (from jinja2->pyLDAvis) (2.1.1)\n",
      "Requirement already satisfied: pyfume in c:\\users\\nunna\\anaconda3\\lib\\site-packages (from FuzzyTM>=0.4.0->gensim->pyLDAvis) (0.2.25)\n",
      "Requirement already satisfied: six>=1.5 in c:\\users\\nunna\\anaconda3\\lib\\site-packages (from python-dateutil>=2.8.2->pandas>=2.0.0->pyLDAvis) (1.16.0)\n",
      "Requirement already satisfied: fst-pso in c:\\users\\nunna\\anaconda3\\lib\\site-packages (from pyfume->FuzzyTM>=0.4.0->gensim->pyLDAvis) (1.8.1)\n",
      "Requirement already satisfied: simpful in c:\\users\\nunna\\anaconda3\\lib\\site-packages (from pyfume->FuzzyTM>=0.4.0->gensim->pyLDAvis) (2.11.0)\n",
      "Requirement already satisfied: miniful in c:\\users\\nunna\\anaconda3\\lib\\site-packages (from fst-pso->pyfume->FuzzyTM>=0.4.0->gensim->pyLDAvis) (0.0.6)\n"
     ]
    }
   ],
   "source": [
    "!pip install --upgrade --pre pythainlp\n",
    "!pip install pyLDAvis"
   ]
  },
  {
   "cell_type": "code",
   "execution_count": 88,
   "id": "25678d6e",
   "metadata": {},
   "outputs": [],
   "source": [
    "import pandas as pd\n",
    "import pythainlp\n",
    "import gensim\n",
    "import pyLDAvis.gensim\n",
    "pyLDAvis.enable_notebook()\n",
    "import warnings\n",
    "warnings.filterwarnings(\"ignore\", category=DeprecationWarning)"
   ]
  },
  {
   "cell_type": "code",
   "execution_count": 89,
   "id": "dcf1019b",
   "metadata": {
    "scrolled": true
   },
   "outputs": [],
   "source": [
    "df=pd.read_csv('/Users/nunna/iCloudDrive/MADT/เทอม3_2565/MADT8101/Homework/6 VOC/TripadvisorReview_SalaSamui.csv')"
   ]
  },
  {
   "cell_type": "code",
   "execution_count": 90,
   "id": "a443b25b",
   "metadata": {},
   "outputs": [
    {
     "data": {
      "text/html": [
       "<div>\n",
       "<style scoped>\n",
       "    .dataframe tbody tr th:only-of-type {\n",
       "        vertical-align: middle;\n",
       "    }\n",
       "\n",
       "    .dataframe tbody tr th {\n",
       "        vertical-align: top;\n",
       "    }\n",
       "\n",
       "    .dataframe thead th {\n",
       "        text-align: right;\n",
       "    }\n",
       "</style>\n",
       "<table border=\"1\" class=\"dataframe\">\n",
       "  <thead>\n",
       "    <tr style=\"text-align: right;\">\n",
       "      <th></th>\n",
       "      <th>ReviewID</th>\n",
       "      <th>Review</th>\n",
       "    </tr>\n",
       "  </thead>\n",
       "  <tbody>\n",
       "    <tr>\n",
       "      <th>8</th>\n",
       "      <td>9</td>\n",
       "      <td>ถ่ายรูปสวยทุกมุม และถ่ายรูปสวยทุกมุม</td>\n",
       "    </tr>\n",
       "    <tr>\n",
       "      <th>9</th>\n",
       "      <td>10</td>\n",
       "      <td>พนักงานดูแลดี ใส่ใจรายละเอียด  เรือคยัค และ Pa...</td>\n",
       "    </tr>\n",
       "    <tr>\n",
       "      <th>10</th>\n",
       "      <td>11</td>\n",
       "      <td>ที่พักสวยมาก พนักงานบริการดี อาหารอร่อยค่ะ</td>\n",
       "    </tr>\n",
       "    <tr>\n",
       "      <th>11</th>\n",
       "      <td>12</td>\n",
       "      <td>มุมถ่ายรูปสวย ห้องก็สวยงาม พนักงานบริการดี</td>\n",
       "    </tr>\n",
       "    <tr>\n",
       "      <th>12</th>\n",
       "      <td>13</td>\n",
       "      <td>น้ำทะเลใส หาดทรายขาวละเอียด พนักงานบริการดี</td>\n",
       "    </tr>\n",
       "  </tbody>\n",
       "</table>\n",
       "</div>"
      ],
      "text/plain": [
       "    ReviewID                                             Review\n",
       "8          9               ถ่ายรูปสวยทุกมุม และถ่ายรูปสวยทุกมุม\n",
       "9         10  พนักงานดูแลดี ใส่ใจรายละเอียด  เรือคยัค และ Pa...\n",
       "10        11         ที่พักสวยมาก พนักงานบริการดี อาหารอร่อยค่ะ\n",
       "11        12         มุมถ่ายรูปสวย ห้องก็สวยงาม พนักงานบริการดี\n",
       "12        13        น้ำทะเลใส หาดทรายขาวละเอียด พนักงานบริการดี"
      ]
     },
     "execution_count": 90,
     "metadata": {},
     "output_type": "execute_result"
    }
   ],
   "source": [
    "df.tail()"
   ]
  },
  {
   "cell_type": "code",
   "execution_count": 358,
   "id": "1d640640",
   "metadata": {},
   "outputs": [],
   "source": [
    "#Tokenize Words\n",
    "stopwords = list(pythainlp.corpus.thai_stopwords())\n",
    "removed_words = ['',' ','  ','\\n','ค่ะ','คะ','โรงแรม','นะคะ','ๆ','('')','(',')','(' ,')','(' , ')','(', ')','ๆ','มาก','บริการ','ดีมาก','อย่างมาก','เลย','แนะนำ','ไม่มีที่ติ','เหมาะกับ','มมม','ความ','แยก','ไร้','หาย','ติ','เรื่อง','ให้การ','เข้าหา','ริม','ดี','น่ารัก','ยอดเยี่ยม','สุดยอด','ดีงาม','อัธ', 'เยี่ยม', 'ขนาด','และ','พาย','สวย','สวยงาม','มากๆ','สาย','ตกลง','ตก','มุม','มอ', 'มินิ', 'ล','เเต่ง','ใส','ละเอียด','หลากหลาย', 'อา', 'อาด', 'ใจ', 'ใส่', 'เหมาะ', 'รายละเอียด', 'สวยสะ', 'มื้อ','สี','ขาว']\n",
    "screening_words = stopwords + removed_words\n",
    "\n",
    "def tokenize_with_space(sentence):\n",
    "    merged = ''\n",
    "    words = pythainlp.word_tokenize(str(sentence), engine='longest')\n",
    "    for word in words:\n",
    "        if word not in screening_words:\n",
    "            merged = merged + ',' + word\n",
    "    return merged[1:]"
   ]
  },
  {
   "cell_type": "code",
   "execution_count": 359,
   "id": "489aa2d6",
   "metadata": {},
   "outputs": [],
   "source": [
    "df['Review_tokenized'] = df['Review'].apply(lambda x: tokenize_with_space(x))"
   ]
  },
  {
   "cell_type": "code",
   "execution_count": 360,
   "id": "a7136258",
   "metadata": {},
   "outputs": [
    {
     "data": {
      "text/html": [
       "<div>\n",
       "<style scoped>\n",
       "    .dataframe tbody tr th:only-of-type {\n",
       "        vertical-align: middle;\n",
       "    }\n",
       "\n",
       "    .dataframe tbody tr th {\n",
       "        vertical-align: top;\n",
       "    }\n",
       "\n",
       "    .dataframe thead th {\n",
       "        text-align: right;\n",
       "    }\n",
       "</style>\n",
       "<table border=\"1\" class=\"dataframe\">\n",
       "  <thead>\n",
       "    <tr style=\"text-align: right;\">\n",
       "      <th></th>\n",
       "      <th>ReviewID</th>\n",
       "      <th>Review</th>\n",
       "      <th>Review_tokenized</th>\n",
       "      <th>topics</th>\n",
       "      <th>score</th>\n",
       "    </tr>\n",
       "  </thead>\n",
       "  <tbody>\n",
       "    <tr>\n",
       "      <th>8</th>\n",
       "      <td>9</td>\n",
       "      <td>ถ่ายรูปสวยทุกมุม และถ่ายรูปสวยทุกมุม</td>\n",
       "      <td>ถ่ายรูป,ถ่ายรูป</td>\n",
       "      <td>0</td>\n",
       "      <td>0.067478</td>\n",
       "    </tr>\n",
       "    <tr>\n",
       "      <th>9</th>\n",
       "      <td>10</td>\n",
       "      <td>พนักงานดูแลดี ใส่ใจรายละเอียด  เรือคยัค และ Pa...</td>\n",
       "      <td>พนักงาน,ดูแล,ใส่ใจ,เรือ,คยัค,paddleboard</td>\n",
       "      <td>0</td>\n",
       "      <td>0.944313</td>\n",
       "    </tr>\n",
       "    <tr>\n",
       "      <th>10</th>\n",
       "      <td>11</td>\n",
       "      <td>ที่พักสวยมาก พนักงานบริการดี อาหารอร่อยค่ะ</td>\n",
       "      <td>ที่พัก,พนักงานบริการ,อาหาร,อร่อย</td>\n",
       "      <td>0</td>\n",
       "      <td>0.919606</td>\n",
       "    </tr>\n",
       "    <tr>\n",
       "      <th>11</th>\n",
       "      <td>12</td>\n",
       "      <td>มุมถ่ายรูปสวย ห้องก็สวยงาม พนักงานบริการดี</td>\n",
       "      <td>ถ่ายรูป,ห้อง,พนักงานบริการ</td>\n",
       "      <td>0</td>\n",
       "      <td>0.048933</td>\n",
       "    </tr>\n",
       "    <tr>\n",
       "      <th>12</th>\n",
       "      <td>13</td>\n",
       "      <td>น้ำทะเลใส หาดทรายขาวละเอียด พนักงานบริการดี</td>\n",
       "      <td>น้ำทะเล,หาดทราย,พนักงานบริการ</td>\n",
       "      <td>0</td>\n",
       "      <td>0.920409</td>\n",
       "    </tr>\n",
       "  </tbody>\n",
       "</table>\n",
       "</div>"
      ],
      "text/plain": [
       "    ReviewID                                             Review  \\\n",
       "8          9               ถ่ายรูปสวยทุกมุม และถ่ายรูปสวยทุกมุม   \n",
       "9         10  พนักงานดูแลดี ใส่ใจรายละเอียด  เรือคยัค และ Pa...   \n",
       "10        11         ที่พักสวยมาก พนักงานบริการดี อาหารอร่อยค่ะ   \n",
       "11        12         มุมถ่ายรูปสวย ห้องก็สวยงาม พนักงานบริการดี   \n",
       "12        13        น้ำทะเลใส หาดทรายขาวละเอียด พนักงานบริการดี   \n",
       "\n",
       "                            Review_tokenized  topics     score  \n",
       "8                            ถ่ายรูป,ถ่ายรูป       0  0.067478  \n",
       "9   พนักงาน,ดูแล,ใส่ใจ,เรือ,คยัค,paddleboard       0  0.944313  \n",
       "10          ที่พัก,พนักงานบริการ,อาหาร,อร่อย       0  0.919606  \n",
       "11                ถ่ายรูป,ห้อง,พนักงานบริการ       0  0.048933  \n",
       "12             น้ำทะเล,หาดทราย,พนักงานบริการ       0  0.920409  "
      ]
     },
     "execution_count": 360,
     "metadata": {},
     "output_type": "execute_result"
    }
   ],
   "source": [
    "df.tail()"
   ]
  },
  {
   "cell_type": "code",
   "execution_count": 361,
   "id": "6456cf80",
   "metadata": {},
   "outputs": [],
   "source": [
    "#Create Dictionary\n",
    "documents = df['Review_tokenized'].to_list()\n",
    "texts = [[text for text in doc.split(',')] for doc in documents]\n",
    "dictionary = gensim.corpora.Dictionary(texts)"
   ]
  },
  {
   "cell_type": "code",
   "execution_count": 362,
   "id": "f4c1f7c8",
   "metadata": {},
   "outputs": [
    {
     "name": "stdout",
     "output_type": "stream",
     "text": [
      "dict_keys(['paddleboard', 'คายัค', 'ดีไซน์', 'ตัวอาคาร', 'พนักงาน', 'ห้อง', 'เตียง', 'เรือ', 'เส้นโค้ง', 'แปลกตา', 'ได้รูป', 'การถ่ายรูป', 'ทะเล', 'ที่พัก', 'ริมหาด', 'ถ่ายรูป', 'ห้องพัก', 'ตกแต่ง', 'บรรยากาศ', 'ดูแล', 'สะอาด', 'อร่อย', 'อาหาร', 'กิจกรรม', 'สระ', 'paddlebord', 'พระอาทิตย์', 'วิว', 'อาหารเช้า', 'เครื่องดื่ม', 'โชว์', 'ไฟ', 'คยัค', 'ใส่ใจ', 'พนักงานบริการ', 'น้ำทะเล', 'หาดทราย'])\n"
     ]
    }
   ],
   "source": [
    "print(dictionary.token2id.keys())"
   ]
  },
  {
   "cell_type": "code",
   "execution_count": 363,
   "id": "3a792826",
   "metadata": {},
   "outputs": [],
   "source": [
    "gensim_corpus = [dictionary.doc2bow(text, allow_update=True) for text in texts]\n",
    "word_frequencies = [[(dictionary[id], frequence) for id, frequence in couple] for couple in gensim_corpus]"
   ]
  },
  {
   "cell_type": "code",
   "execution_count": 635,
   "id": "73e1024d",
   "metadata": {},
   "outputs": [
    {
     "name": "stdout",
     "output_type": "stream",
     "text": [
      "CPU times: total: 125 ms\n",
      "Wall time: 152 ms\n"
     ]
    }
   ],
   "source": [
    "#Topic Modeling\n",
    "num_topics = 3\n",
    "chunksize = 2000 # size of the doc looked at every pass\n",
    "passes = 50 # number of passes through documents\n",
    "iterations = 50\n",
    "eval_every =1 # Don't evaluate model perplexity, takes too much time\n",
    "\n",
    "#make a index to word dictionary\n",
    "temp = dictionary[0] #This is only to load the dictionary\n",
    "id2word = dictionary.id2token\n",
    "\n",
    "%time model = gensim.models.LdaModel(corpus=gensim_corpus, id2word=id2word, chunksize=chunksize, \\\n",
    "                                    alpha='auto', eta='auto', \\\n",
    "                                    iterations=iterations, num_topics=num_topics, \\\n",
    "                                    passes=passes, eval_every=eval_every)"
   ]
  },
  {
   "cell_type": "code",
   "execution_count": 636,
   "id": "3d831f53",
   "metadata": {
    "scrolled": false
   },
   "outputs": [
    {
     "data": {
      "text/html": [
       "\n",
       "<link rel=\"stylesheet\" type=\"text/css\" href=\"https://cdn.jsdelivr.net/gh/bmabey/pyLDAvis@3.4.0/pyLDAvis/js/ldavis.v1.0.0.css\">\n",
       "\n",
       "\n",
       "<div id=\"ldavis_el2640824736811723203847461032\" style=\"background-color:white;\"></div>\n",
       "<script type=\"text/javascript\">\n",
       "\n",
       "var ldavis_el2640824736811723203847461032_data = {\"mdsDat\": {\"x\": [0.036140397128373414, -0.10608610678130957, 0.06994570965293612], \"y\": [0.08511416599760936, -0.016345403007822046, -0.0687687629897873], \"topics\": [1, 2, 3], \"cluster\": [1, 1, 1], \"Freq\": [41.124325206567704, 39.641484484577184, 19.23419030885512]}, \"tinfo\": {\"Term\": [\"\\u0e16\\u0e48\\u0e32\\u0e22\\u0e23\\u0e39\\u0e1b\", \"\\u0e1e\\u0e19\\u0e31\\u0e01\\u0e07\\u0e32\\u0e19\", \"\\u0e2b\\u0e49\\u0e2d\\u0e07\\u0e1e\\u0e31\\u0e01\", \"\\u0e01\\u0e32\\u0e23\\u0e16\\u0e48\\u0e32\\u0e22\\u0e23\\u0e39\\u0e1b\", \"\\u0e2a\\u0e30\\u0e2d\\u0e32\\u0e14\", \"\\u0e2d\\u0e32\\u0e2b\\u0e32\\u0e23\", \"\\u0e2d\\u0e23\\u0e48\\u0e2d\\u0e22\", \"\\u0e17\\u0e30\\u0e40\\u0e25\", \"\\u0e17\\u0e35\\u0e48\\u0e1e\\u0e31\\u0e01\", \"\\u0e23\\u0e34\\u0e21\\u0e2b\\u0e32\\u0e14\", \"\\u0e14\\u0e39\\u0e41\\u0e25\", \"\\u0e01\\u0e34\\u0e08\\u0e01\\u0e23\\u0e23\\u0e21\", \"paddleboard\", \"\\u0e40\\u0e23\\u0e37\\u0e2d\", \"\\u0e2a\\u0e23\\u0e30\", \"paddlebord\", \"\\u0e1e\\u0e23\\u0e30\\u0e2d\\u0e32\\u0e17\\u0e34\\u0e15\\u0e22\\u0e4c\", \"\\u0e27\\u0e34\\u0e27\", \"\\u0e1a\\u0e23\\u0e23\\u0e22\\u0e32\\u0e01\\u0e32\\u0e28\", \"\\u0e15\\u0e01\\u0e41\\u0e15\\u0e48\\u0e07\", \"\\u0e44\\u0e14\\u0e49\\u0e23\\u0e39\\u0e1b\", \"\\u0e41\\u0e1b\\u0e25\\u0e01\\u0e15\\u0e32\", \"\\u0e40\\u0e15\\u0e35\\u0e22\\u0e07\", \"\\u0e40\\u0e2a\\u0e49\\u0e19\\u0e42\\u0e04\\u0e49\\u0e07\", \"\\u0e15\\u0e31\\u0e27\\u0e2d\\u0e32\\u0e04\\u0e32\\u0e23\", \"\\u0e40\\u0e04\\u0e23\\u0e37\\u0e48\\u0e2d\\u0e07\\u0e14\\u0e37\\u0e48\\u0e21\", \"\\u0e42\\u0e0a\\u0e27\\u0e4c\", \"\\u0e2d\\u0e32\\u0e2b\\u0e32\\u0e23\\u0e40\\u0e0a\\u0e49\\u0e32\", \"\\u0e44\\u0e1f\", \"\\u0e43\\u0e2a\\u0e48\\u0e43\\u0e08\", \"\\u0e15\\u0e31\\u0e27\\u0e2d\\u0e32\\u0e04\\u0e32\\u0e23\", \"\\u0e40\\u0e2a\\u0e49\\u0e19\\u0e42\\u0e04\\u0e49\\u0e07\", \"\\u0e40\\u0e15\\u0e35\\u0e22\\u0e07\", \"\\u0e41\\u0e1b\\u0e25\\u0e01\\u0e15\\u0e32\", \"\\u0e44\\u0e14\\u0e49\\u0e23\\u0e39\\u0e1b\", \"\\u0e44\\u0e1f\", \"\\u0e2d\\u0e32\\u0e2b\\u0e32\\u0e23\\u0e40\\u0e0a\\u0e49\\u0e32\", \"\\u0e42\\u0e0a\\u0e27\\u0e4c\", \"\\u0e04\\u0e22\\u0e31\\u0e04\", \"\\u0e43\\u0e2a\\u0e48\\u0e43\\u0e08\", \"\\u0e40\\u0e04\\u0e23\\u0e37\\u0e48\\u0e2d\\u0e07\\u0e14\\u0e37\\u0e48\\u0e21\", \"\\u0e19\\u0e49\\u0e33\\u0e17\\u0e30\\u0e40\\u0e25\", \"\\u0e2b\\u0e32\\u0e14\\u0e17\\u0e23\\u0e32\\u0e22\", \"paddleboard\", \"\\u0e04\\u0e32\\u0e22\\u0e31\\u0e04\", \"\\u0e40\\u0e23\\u0e37\\u0e2d\", \"\\u0e23\\u0e34\\u0e21\\u0e2b\\u0e32\\u0e14\", \"\\u0e14\\u0e39\\u0e41\\u0e25\", \"\\u0e14\\u0e35\\u0e44\\u0e0b\\u0e19\\u0e4c\", \"\\u0e1e\\u0e19\\u0e31\\u0e01\\u0e07\\u0e32\\u0e19\", \"\\u0e2b\\u0e49\\u0e2d\\u0e07\", \"\\u0e1e\\u0e19\\u0e31\\u0e01\\u0e07\\u0e32\\u0e19\\u0e1a\\u0e23\\u0e34\\u0e01\\u0e32\\u0e23\", \"\\u0e01\\u0e32\\u0e23\\u0e16\\u0e48\\u0e32\\u0e22\\u0e23\\u0e39\\u0e1b\", \"\\u0e2a\\u0e30\\u0e2d\\u0e32\\u0e14\", \"\\u0e15\\u0e01\\u0e41\\u0e15\\u0e48\\u0e07\", \"\\u0e1a\\u0e23\\u0e23\\u0e22\\u0e32\\u0e01\\u0e32\\u0e28\", \"\\u0e2a\\u0e23\\u0e30\", \"paddlebord\", \"\\u0e1e\\u0e23\\u0e30\\u0e2d\\u0e32\\u0e17\\u0e34\\u0e15\\u0e22\\u0e4c\", \"\\u0e27\\u0e34\\u0e27\", \"\\u0e16\\u0e48\\u0e32\\u0e22\\u0e23\\u0e39\\u0e1b\", \"\\u0e2b\\u0e49\\u0e2d\\u0e07\\u0e1e\\u0e31\\u0e01\", \"\\u0e17\\u0e35\\u0e48\\u0e1e\\u0e31\\u0e01\", \"\\u0e2d\\u0e23\\u0e48\\u0e2d\\u0e22\", \"\\u0e17\\u0e30\\u0e40\\u0e25\", \"\\u0e16\\u0e48\\u0e32\\u0e22\\u0e23\\u0e39\\u0e1b\", \"\\u0e01\\u0e34\\u0e08\\u0e01\\u0e23\\u0e23\\u0e21\", \"\\u0e2a\\u0e23\\u0e30\", \"paddlebord\", \"\\u0e1e\\u0e23\\u0e30\\u0e2d\\u0e32\\u0e17\\u0e34\\u0e15\\u0e22\\u0e4c\", \"\\u0e27\\u0e34\\u0e27\", \"\\u0e15\\u0e01\\u0e41\\u0e15\\u0e48\\u0e07\", \"\\u0e1a\\u0e23\\u0e23\\u0e22\\u0e32\\u0e01\\u0e32\\u0e28\", \"\\u0e1e\\u0e19\\u0e31\\u0e01\\u0e07\\u0e32\\u0e19\\u0e1a\\u0e23\\u0e34\\u0e01\\u0e32\\u0e23\", \"\\u0e2b\\u0e49\\u0e2d\\u0e07\", \"\\u0e17\\u0e30\\u0e40\\u0e25\", \"\\u0e17\\u0e35\\u0e48\\u0e1e\\u0e31\\u0e01\", \"\\u0e2d\\u0e32\\u0e2b\\u0e32\\u0e23\", \"\\u0e2d\\u0e23\\u0e48\\u0e2d\\u0e22\", \"\\u0e14\\u0e35\\u0e44\\u0e0b\\u0e19\\u0e4c\", \"\\u0e40\\u0e23\\u0e37\\u0e2d\", \"\\u0e04\\u0e32\\u0e22\\u0e31\\u0e04\", \"paddleboard\", \"\\u0e2a\\u0e30\\u0e2d\\u0e32\\u0e14\", \"\\u0e01\\u0e32\\u0e23\\u0e16\\u0e48\\u0e32\\u0e22\\u0e23\\u0e39\\u0e1b\", \"\\u0e19\\u0e49\\u0e33\\u0e17\\u0e30\\u0e40\\u0e25\", \"\\u0e2b\\u0e32\\u0e14\\u0e17\\u0e23\\u0e32\\u0e22\", \"\\u0e04\\u0e22\\u0e31\\u0e04\", \"\\u0e43\\u0e2a\\u0e48\\u0e43\\u0e08\", \"\\u0e44\\u0e1f\", \"\\u0e2d\\u0e32\\u0e2b\\u0e32\\u0e23\\u0e40\\u0e0a\\u0e49\\u0e32\", \"\\u0e42\\u0e0a\\u0e27\\u0e4c\", \"\\u0e40\\u0e04\\u0e23\\u0e37\\u0e48\\u0e2d\\u0e07\\u0e14\\u0e37\\u0e48\\u0e21\", \"\\u0e15\\u0e31\\u0e27\\u0e2d\\u0e32\\u0e04\\u0e32\\u0e23\", \"\\u0e40\\u0e2a\\u0e49\\u0e19\\u0e42\\u0e04\\u0e49\\u0e07\", \"\\u0e2b\\u0e49\\u0e2d\\u0e07\\u0e1e\\u0e31\\u0e01\", \"\\u0e1e\\u0e19\\u0e31\\u0e01\\u0e07\\u0e32\\u0e19\", \"\\u0e14\\u0e39\\u0e41\\u0e25\", \"\\u0e23\\u0e34\\u0e21\\u0e2b\\u0e32\\u0e14\", \"\\u0e2b\\u0e49\\u0e2d\\u0e07\\u0e1e\\u0e31\\u0e01\", \"\\u0e01\\u0e32\\u0e23\\u0e16\\u0e48\\u0e32\\u0e22\\u0e23\\u0e39\\u0e1b\", \"\\u0e2a\\u0e30\\u0e2d\\u0e32\\u0e14\", \"\\u0e1e\\u0e19\\u0e31\\u0e01\\u0e07\\u0e32\\u0e19\", \"\\u0e2d\\u0e32\\u0e2b\\u0e32\\u0e23\", \"\\u0e2d\\u0e23\\u0e48\\u0e2d\\u0e22\", \"\\u0e17\\u0e35\\u0e48\\u0e1e\\u0e31\\u0e01\", \"\\u0e17\\u0e30\\u0e40\\u0e25\", \"\\u0e23\\u0e34\\u0e21\\u0e2b\\u0e32\\u0e14\", \"\\u0e14\\u0e39\\u0e41\\u0e25\", \"\\u0e1a\\u0e23\\u0e23\\u0e22\\u0e32\\u0e01\\u0e32\\u0e28\", \"\\u0e15\\u0e01\\u0e41\\u0e15\\u0e48\\u0e07\", \"\\u0e2a\\u0e23\\u0e30\", \"paddlebord\", \"\\u0e1e\\u0e23\\u0e30\\u0e2d\\u0e32\\u0e17\\u0e34\\u0e15\\u0e22\\u0e4c\", \"\\u0e27\\u0e34\\u0e27\", \"\\u0e40\\u0e04\\u0e23\\u0e37\\u0e48\\u0e2d\\u0e07\\u0e14\\u0e37\\u0e48\\u0e21\", \"\\u0e42\\u0e0a\\u0e27\\u0e4c\", \"\\u0e2b\\u0e32\\u0e14\\u0e17\\u0e23\\u0e32\\u0e22\", \"\\u0e19\\u0e49\\u0e33\\u0e17\\u0e30\\u0e40\\u0e25\", \"\\u0e2d\\u0e32\\u0e2b\\u0e32\\u0e23\\u0e40\\u0e0a\\u0e49\\u0e32\", \"\\u0e44\\u0e1f\", \"\\u0e04\\u0e22\\u0e31\\u0e04\", \"\\u0e43\\u0e2a\\u0e48\\u0e43\\u0e08\", \"\\u0e40\\u0e15\\u0e35\\u0e22\\u0e07\", \"\\u0e41\\u0e1b\\u0e25\\u0e01\\u0e15\\u0e32\", \"\\u0e44\\u0e14\\u0e49\\u0e23\\u0e39\\u0e1b\", \"\\u0e15\\u0e31\\u0e27\\u0e2d\\u0e32\\u0e04\\u0e32\\u0e23\", \"\\u0e40\\u0e2a\\u0e49\\u0e19\\u0e42\\u0e04\\u0e49\\u0e07\", \"\\u0e01\\u0e34\\u0e08\\u0e01\\u0e23\\u0e23\\u0e21\", \"\\u0e16\\u0e48\\u0e32\\u0e22\\u0e23\\u0e39\\u0e1b\", \"\\u0e40\\u0e23\\u0e37\\u0e2d\", \"paddleboard\", \"\\u0e1e\\u0e19\\u0e31\\u0e01\\u0e07\\u0e32\\u0e19\\u0e1a\\u0e23\\u0e34\\u0e01\\u0e32\\u0e23\", \"\\u0e04\\u0e32\\u0e22\\u0e31\\u0e04\", \"\\u0e2b\\u0e49\\u0e2d\\u0e07\", \"\\u0e14\\u0e35\\u0e44\\u0e0b\\u0e19\\u0e4c\"], \"Freq\": [4.0, 3.0, 1.0, 1.0, 1.0, 1.0, 1.0, 1.0, 1.0, 1.0, 1.0, 2.0, 3.0, 4.0, 1.0, 1.0, 1.0, 1.0, 1.0, 1.0, 1.0, 1.0, 1.0, 1.0, 1.0, 1.0, 1.0, 1.0, 1.0, 1.0, 0.9244467474742024, 0.9244467474742024, 0.9244467474742024, 0.9244467474742024, 0.9244467474742024, 0.9244466432981711, 0.9244466432981711, 0.9244466432981711, 0.9244466432981711, 0.9244466432981711, 0.9244466432981711, 0.9244462265940454, 0.9244462265940454, 2.3111206711106522, 1.6177830321482232, 2.3111181708858988, 0.9244467474742024, 0.9244467474742024, 0.9244450806577, 1.6177914704067669, 0.9244442472494487, 0.9244309127174293, 0.23111272862886462, 0.23111272862886462, 0.23111272862886462, 0.23111272862886462, 0.23111270258485678, 0.23111270258485678, 0.23111270258485678, 0.23111270258485678, 0.2311195782029293, 0.2311189010587252, 0.23111275467287248, 0.23111275467287248, 0.23111272862886462, 4.314869155820124, 1.600408994624826, 0.9145177183649458, 0.9145177183649458, 0.9145177183649458, 0.9145177183649458, 0.9145177183649458, 0.9145177183649458, 1.6004246600985288, 1.6004116055371098, 0.9145206305363393, 0.914520530116636, 0.9145202288575264, 0.9145202288575264, 0.9145195259196038, 1.6004142164493937, 0.9145198271787135, 0.9145200280181199, 0.22863070994245255, 0.2286305342079719, 0.22863081036215577, 0.22863081036215577, 0.22863058441782352, 0.22863058441782352, 0.2286305342079719, 0.2286305342079719, 0.2286305342079719, 0.2286305342079719, 0.2286304839981203, 0.2286304839981203, 0.23287823744445194, 0.23133712136401482, 0.2286309860966364, 0.22863068483752674, 1.199937344770812, 0.687505284690535, 0.6875051872425354, 1.7167264023622224, 0.6875035793505415, 0.6875035793505415, 0.6875033357305426, 0.6875033357305426, 0.687505284690535, 0.6875051385185356, 0.17187688149863156, 0.17187685713663167, 0.17187683277463175, 0.17187683277463175, 0.17187683277463175, 0.17187683277463175, 0.17187689367963152, 0.17187688149863156, 0.17187685713663167, 0.1718768449556317, 0.17187685713663167, 0.1718768449556317, 0.17187683277463175, 0.17187683277463175, 0.17187683277463175, 0.17187683277463175, 0.17187683277463175, 0.1718768205936318, 0.1718768205936318, 0.17187683277463175, 0.19375016912295587, 0.17187690586063148, 0.17187689367963152, 0.17187689367963152, 0.17187688149863156, 0.17187685713663167, 0.1718768449556317], \"Total\": [4.0, 3.0, 1.0, 1.0, 1.0, 1.0, 1.0, 1.0, 1.0, 1.0, 1.0, 2.0, 3.0, 4.0, 1.0, 1.0, 1.0, 1.0, 1.0, 1.0, 1.0, 1.0, 1.0, 1.0, 1.0, 1.0, 1.0, 1.0, 1.0, 1.0, 1.3249540520659546, 1.3249540520659546, 1.3249540642469546, 1.3249540642469546, 1.3249540642469546, 1.3249540224617746, 1.3249540346427746, 1.3249540590047746, 1.3249540604906265, 1.3249540604906265, 1.3249540711857746, 1.3249538819118327, 1.3249538940928327, 3.3975175928084034, 2.7041797408255683, 4.083409293195924, 1.8405827170022642, 1.8405828720893744, 2.0108414515329356, 3.565854994133004, 2.69673270992319, 2.696732466495589, 1.1472485475273715, 1.1472486258138526, 1.317507304130442, 1.317507328492442, 1.3175072537244343, 1.3175072537244343, 1.3175072537244343, 1.3175072537244343, 4.7397389031460095, 1.663934483273989, 1.833136620520051, 1.8331365628809404, 1.8331366948957464, 4.7397389031460095, 2.0033985299843144, 1.3175072537244343, 1.3175072537244343, 1.3175072537244343, 1.3175072537244343, 1.317507304130442, 1.317507328492442, 2.696732466495589, 2.69673270992319, 1.8331366948957464, 1.833136620520051, 1.8331365368369326, 1.8331365628809404, 2.0108414515329356, 4.083409293195924, 2.7041797408255683, 3.3975175928084034, 1.1472486258138526, 1.1472485475273715, 1.3249538819118327, 1.3249538940928327, 1.3249540604906265, 1.3249540604906265, 1.3249540224617746, 1.3249540346427746, 1.3249540590047746, 1.3249540711857746, 1.3249540520659546, 1.3249540520659546, 1.663934483273989, 3.565854994133004, 1.8405828720893744, 1.8405827170022642, 1.663934483273989, 1.1472485475273715, 1.1472486258138526, 3.565854994133004, 1.8331365368369326, 1.8331365628809404, 1.833136620520051, 1.8331366948957464, 1.8405827170022642, 1.8405828720893744, 1.317507328492442, 1.317507304130442, 1.3175072537244343, 1.3175072537244343, 1.3175072537244343, 1.3175072537244343, 1.3249540711857746, 1.3249540590047746, 1.3249538940928327, 1.3249538819118327, 1.3249540346427746, 1.3249540224617746, 1.3249540604906265, 1.3249540604906265, 1.3249540642469546, 1.3249540642469546, 1.3249540642469546, 1.3249540520659546, 1.3249540520659546, 2.0033985299843144, 4.7397389031460095, 4.083409293195924, 3.3975175928084034, 2.696732466495589, 2.7041797408255683, 2.69673270992319, 2.0108414515329356], \"Category\": [\"Default\", \"Default\", \"Default\", \"Default\", \"Default\", \"Default\", \"Default\", \"Default\", \"Default\", \"Default\", \"Default\", \"Default\", \"Default\", \"Default\", \"Default\", \"Default\", \"Default\", \"Default\", \"Default\", \"Default\", \"Default\", \"Default\", \"Default\", \"Default\", \"Default\", \"Default\", \"Default\", \"Default\", \"Default\", \"Default\", \"Topic1\", \"Topic1\", \"Topic1\", \"Topic1\", \"Topic1\", \"Topic1\", \"Topic1\", \"Topic1\", \"Topic1\", \"Topic1\", \"Topic1\", \"Topic1\", \"Topic1\", \"Topic1\", \"Topic1\", \"Topic1\", \"Topic1\", \"Topic1\", \"Topic1\", \"Topic1\", \"Topic1\", \"Topic1\", \"Topic1\", \"Topic1\", \"Topic1\", \"Topic1\", \"Topic1\", \"Topic1\", \"Topic1\", \"Topic1\", \"Topic1\", \"Topic1\", \"Topic1\", \"Topic1\", \"Topic1\", \"Topic2\", \"Topic2\", \"Topic2\", \"Topic2\", \"Topic2\", \"Topic2\", \"Topic2\", \"Topic2\", \"Topic2\", \"Topic2\", \"Topic2\", \"Topic2\", \"Topic2\", \"Topic2\", \"Topic2\", \"Topic2\", \"Topic2\", \"Topic2\", \"Topic2\", \"Topic2\", \"Topic2\", \"Topic2\", \"Topic2\", \"Topic2\", \"Topic2\", \"Topic2\", \"Topic2\", \"Topic2\", \"Topic2\", \"Topic2\", \"Topic2\", \"Topic2\", \"Topic2\", \"Topic2\", \"Topic3\", \"Topic3\", \"Topic3\", \"Topic3\", \"Topic3\", \"Topic3\", \"Topic3\", \"Topic3\", \"Topic3\", \"Topic3\", \"Topic3\", \"Topic3\", \"Topic3\", \"Topic3\", \"Topic3\", \"Topic3\", \"Topic3\", \"Topic3\", \"Topic3\", \"Topic3\", \"Topic3\", \"Topic3\", \"Topic3\", \"Topic3\", \"Topic3\", \"Topic3\", \"Topic3\", \"Topic3\", \"Topic3\", \"Topic3\", \"Topic3\", \"Topic3\", \"Topic3\", \"Topic3\", \"Topic3\", \"Topic3\", \"Topic3\"], \"logprob\": [30.0, 29.0, 28.0, 27.0, 26.0, 25.0, 24.0, 23.0, 22.0, 21.0, 20.0, 19.0, 18.0, 17.0, 16.0, 15.0, 14.0, 13.0, 12.0, 11.0, 10.0, 9.0, 8.0, 7.0, 6.0, 5.0, 4.0, 3.0, 2.0, 1.0, -3.4095, -3.4095, -3.4095, -3.4095, -3.4095, -3.4095, -3.4095, -3.4095, -3.4095, -3.4095, -3.4095, -3.4095, -3.4095, -2.4932, -2.8499, -2.4932, -3.4095, -3.4095, -3.4095, -2.8499, -3.4095, -3.4095, -4.7958, -4.7958, -4.7958, -4.7958, -4.7958, -4.7958, -4.7958, -4.7958, -4.7958, -4.7958, -4.7958, -4.7958, -4.7958, -1.8321, -2.824, -3.3836, -3.3836, -3.3836, -3.3836, -3.3836, -3.3836, -2.8239, -2.824, -3.3836, -3.3836, -3.3836, -3.3836, -3.3836, -2.824, -3.3836, -3.3836, -4.7699, -4.7699, -4.7699, -4.7699, -4.7699, -4.7699, -4.7699, -4.7699, -4.7699, -4.7699, -4.7699, -4.7699, -4.7515, -4.7581, -4.7699, -4.7699, -2.3888, -2.9457, -2.9457, -2.0306, -2.9457, -2.9457, -2.9457, -2.9457, -2.9457, -2.9457, -4.332, -4.332, -4.332, -4.332, -4.332, -4.332, -4.332, -4.332, -4.332, -4.332, -4.332, -4.332, -4.332, -4.332, -4.332, -4.332, -4.332, -4.332, -4.332, -4.332, -4.2122, -4.332, -4.332, -4.332, -4.332, -4.332, -4.332], \"loglift\": [30.0, 29.0, 28.0, 27.0, 26.0, 25.0, 24.0, 23.0, 22.0, 21.0, 20.0, 19.0, 18.0, 17.0, 16.0, 15.0, 14.0, 13.0, 12.0, 11.0, 10.0, 9.0, 8.0, 7.0, 6.0, 5.0, 4.0, 3.0, 2.0, 1.0, 0.5286, 0.5286, 0.5286, 0.5286, 0.5286, 0.5286, 0.5286, 0.5286, 0.5286, 0.5286, 0.5286, 0.5286, 0.5286, 0.5033, 0.3748, 0.3194, 0.1999, 0.1999, 0.1115, 0.0982, -0.182, -0.182, -0.7136, -0.7136, -0.852, -0.852, -0.852, -0.852, -0.852, -0.852, -2.1322, -1.0854, -1.1823, -1.1823, -1.1823, 0.8314, 0.7007, 0.5602, 0.5602, 0.5602, 0.5602, 0.5602, 0.5602, 0.4035, 0.4035, 0.2299, 0.2299, 0.2299, 0.2299, 0.1374, -0.0114, -0.1589, -0.3871, -0.6877, -0.6877, -0.8317, -0.8317, -0.8317, -0.8317, -0.8317, -0.8317, -0.8317, -0.8317, -0.8317, -0.8317, -1.0411, -1.81, -1.1604, -1.1604, 1.3216, 1.1364, 1.1364, 0.9175, 0.6678, 0.6678, 0.6678, 0.6678, 0.6637, 0.6637, -0.3882, -0.3882, -0.3882, -0.3882, -0.3882, -0.3882, -0.3939, -0.3939, -0.3939, -0.3939, -0.3939, -0.3939, -0.3939, -0.3939, -0.3939, -0.3939, -0.3939, -0.3939, -0.3939, -0.8073, -1.5487, -1.5194, -1.3355, -1.1045, -1.1073, -1.1045, -0.811]}, \"token.table\": {\"Topic\": [1, 2, 2, 3, 2, 1, 1, 2, 1, 2, 1, 3, 2, 1, 2, 2, 3, 2, 3, 1, 2, 1, 3, 1, 2, 2, 1, 3, 2, 2, 3, 1, 1, 2, 3, 2, 3, 2, 3, 1, 1, 1, 1, 2, 1, 1, 1, 1, 1, 1], \"Freq\": [0.5886650901332908, 0.2943325450666454, 0.7590091038763699, 0.8716507004129737, 0.9983036176110497, 0.7547431490792239, 0.7395958078546262, 0.3697979039273131, 0.49730425003804485, 0.49730425003804485, 0.5433061532648242, 0.5433061532648242, 0.7590090748377312, 0.7547431538782307, 0.8439283432564172, 0.5455130557281609, 0.5455130557281609, 0.5455130778612155, 0.5455130778612155, 0.7547432508043654, 0.7590090608029105, 0.5608753029191185, 0.5608753029191185, 0.3708191347951926, 0.7416382695903851, 0.7590091038763699, 0.5433061990436857, 0.5433061990436857, 0.7590091038763699, 0.7590091038763699, 0.8716506409328709, 0.7547432438656126, 0.3708191013222377, 0.7416382026444754, 0.6009852010713673, 0.545513095013723, 0.545513095013723, 0.5455131027640171, 0.5455131027640171, 0.7547431638031228, 0.7547431429868695, 0.7547431469394796, 0.489786807149738, 0.489786807149738, 0.7547431538782307, 0.7547431469394796, 0.7547431499256205, 0.7547431490792239, 0.7547431469394796, 0.754743170741874], \"Term\": [\"paddleboard\", \"paddleboard\", \"paddlebord\", \"\\u0e01\\u0e32\\u0e23\\u0e16\\u0e48\\u0e32\\u0e22\\u0e23\\u0e39\\u0e1b\", \"\\u0e01\\u0e34\\u0e08\\u0e01\\u0e23\\u0e23\\u0e21\", \"\\u0e04\\u0e22\\u0e31\\u0e04\", \"\\u0e04\\u0e32\\u0e22\\u0e31\\u0e04\", \"\\u0e04\\u0e32\\u0e22\\u0e31\\u0e04\", \"\\u0e14\\u0e35\\u0e44\\u0e0b\\u0e19\\u0e4c\", \"\\u0e14\\u0e35\\u0e44\\u0e0b\\u0e19\\u0e4c\", \"\\u0e14\\u0e39\\u0e41\\u0e25\", \"\\u0e14\\u0e39\\u0e41\\u0e25\", \"\\u0e15\\u0e01\\u0e41\\u0e15\\u0e48\\u0e07\", \"\\u0e15\\u0e31\\u0e27\\u0e2d\\u0e32\\u0e04\\u0e32\\u0e23\", \"\\u0e16\\u0e48\\u0e32\\u0e22\\u0e23\\u0e39\\u0e1b\", \"\\u0e17\\u0e30\\u0e40\\u0e25\", \"\\u0e17\\u0e30\\u0e40\\u0e25\", \"\\u0e17\\u0e35\\u0e48\\u0e1e\\u0e31\\u0e01\", \"\\u0e17\\u0e35\\u0e48\\u0e1e\\u0e31\\u0e01\", \"\\u0e19\\u0e49\\u0e33\\u0e17\\u0e30\\u0e40\\u0e25\", \"\\u0e1a\\u0e23\\u0e23\\u0e22\\u0e32\\u0e01\\u0e32\\u0e28\", \"\\u0e1e\\u0e19\\u0e31\\u0e01\\u0e07\\u0e32\\u0e19\", \"\\u0e1e\\u0e19\\u0e31\\u0e01\\u0e07\\u0e32\\u0e19\", \"\\u0e1e\\u0e19\\u0e31\\u0e01\\u0e07\\u0e32\\u0e19\\u0e1a\\u0e23\\u0e34\\u0e01\\u0e32\\u0e23\", \"\\u0e1e\\u0e19\\u0e31\\u0e01\\u0e07\\u0e32\\u0e19\\u0e1a\\u0e23\\u0e34\\u0e01\\u0e32\\u0e23\", \"\\u0e1e\\u0e23\\u0e30\\u0e2d\\u0e32\\u0e17\\u0e34\\u0e15\\u0e22\\u0e4c\", \"\\u0e23\\u0e34\\u0e21\\u0e2b\\u0e32\\u0e14\", \"\\u0e23\\u0e34\\u0e21\\u0e2b\\u0e32\\u0e14\", \"\\u0e27\\u0e34\\u0e27\", \"\\u0e2a\\u0e23\\u0e30\", \"\\u0e2a\\u0e30\\u0e2d\\u0e32\\u0e14\", \"\\u0e2b\\u0e32\\u0e14\\u0e17\\u0e23\\u0e32\\u0e22\", \"\\u0e2b\\u0e49\\u0e2d\\u0e07\", \"\\u0e2b\\u0e49\\u0e2d\\u0e07\", \"\\u0e2b\\u0e49\\u0e2d\\u0e07\\u0e1e\\u0e31\\u0e01\", \"\\u0e2d\\u0e23\\u0e48\\u0e2d\\u0e22\", \"\\u0e2d\\u0e23\\u0e48\\u0e2d\\u0e22\", \"\\u0e2d\\u0e32\\u0e2b\\u0e32\\u0e23\", \"\\u0e2d\\u0e32\\u0e2b\\u0e32\\u0e23\", \"\\u0e2d\\u0e32\\u0e2b\\u0e32\\u0e23\\u0e40\\u0e0a\\u0e49\\u0e32\", \"\\u0e40\\u0e04\\u0e23\\u0e37\\u0e48\\u0e2d\\u0e07\\u0e14\\u0e37\\u0e48\\u0e21\", \"\\u0e40\\u0e15\\u0e35\\u0e22\\u0e07\", \"\\u0e40\\u0e23\\u0e37\\u0e2d\", \"\\u0e40\\u0e23\\u0e37\\u0e2d\", \"\\u0e40\\u0e2a\\u0e49\\u0e19\\u0e42\\u0e04\\u0e49\\u0e07\", \"\\u0e41\\u0e1b\\u0e25\\u0e01\\u0e15\\u0e32\", \"\\u0e42\\u0e0a\\u0e27\\u0e4c\", \"\\u0e43\\u0e2a\\u0e48\\u0e43\\u0e08\", \"\\u0e44\\u0e14\\u0e49\\u0e23\\u0e39\\u0e1b\", \"\\u0e44\\u0e1f\"]}, \"R\": 30, \"lambda.step\": 0.01, \"plot.opts\": {\"xlab\": \"PC1\", \"ylab\": \"PC2\"}, \"topic.order\": [3, 2, 1]};\n",
       "\n",
       "function LDAvis_load_lib(url, callback){\n",
       "  var s = document.createElement('script');\n",
       "  s.src = url;\n",
       "  s.async = true;\n",
       "  s.onreadystatechange = s.onload = callback;\n",
       "  s.onerror = function(){console.warn(\"failed to load library \" + url);};\n",
       "  document.getElementsByTagName(\"head\")[0].appendChild(s);\n",
       "}\n",
       "\n",
       "if(typeof(LDAvis) !== \"undefined\"){\n",
       "   // already loaded: just create the visualization\n",
       "   !function(LDAvis){\n",
       "       new LDAvis(\"#\" + \"ldavis_el2640824736811723203847461032\", ldavis_el2640824736811723203847461032_data);\n",
       "   }(LDAvis);\n",
       "}else if(typeof define === \"function\" && define.amd){\n",
       "   // require.js is available: use it to load d3/LDAvis\n",
       "   require.config({paths: {d3: \"https://d3js.org/d3.v5\"}});\n",
       "   require([\"d3\"], function(d3){\n",
       "      window.d3 = d3;\n",
       "      LDAvis_load_lib(\"https://cdn.jsdelivr.net/gh/bmabey/pyLDAvis@3.4.0/pyLDAvis/js/ldavis.v3.0.0.js\", function(){\n",
       "        new LDAvis(\"#\" + \"ldavis_el2640824736811723203847461032\", ldavis_el2640824736811723203847461032_data);\n",
       "      });\n",
       "    });\n",
       "}else{\n",
       "    // require.js not available: dynamically load d3 & LDAvis\n",
       "    LDAvis_load_lib(\"https://d3js.org/d3.v5.js\", function(){\n",
       "         LDAvis_load_lib(\"https://cdn.jsdelivr.net/gh/bmabey/pyLDAvis@3.4.0/pyLDAvis/js/ldavis.v3.0.0.js\", function(){\n",
       "                 new LDAvis(\"#\" + \"ldavis_el2640824736811723203847461032\", ldavis_el2640824736811723203847461032_data);\n",
       "            })\n",
       "         });\n",
       "}\n",
       "</script>"
      ],
      "text/plain": [
       "PreparedData(topic_coordinates=              x         y  topics  cluster       Freq\n",
       "topic                                                \n",
       "2      0.036140  0.085114       1        1  41.124325\n",
       "1     -0.106086 -0.016345       2        1  39.641484\n",
       "0      0.069946 -0.068769       3        1  19.234190, topic_info=             Term      Freq     Total Category  logprob  loglift\n",
       "15        ถ่ายรูป  4.000000  4.000000  Default   30.000  30.0000\n",
       "4         พนักงาน  3.000000  3.000000  Default   29.000  29.0000\n",
       "16        ห้องพัก  1.000000  1.000000  Default   28.000  28.0000\n",
       "11     การถ่ายรูป  1.000000  1.000000  Default   27.000  27.0000\n",
       "20          สะอาด  1.000000  1.000000  Default   26.000  26.0000\n",
       "..            ...       ...       ...      ...      ...      ...\n",
       "0     paddleboard  0.171877  3.397518   Topic3   -4.332  -1.3355\n",
       "34  พนักงานบริการ  0.171877  2.696732   Topic3   -4.332  -1.1045\n",
       "1           คายัค  0.171877  2.704180   Topic3   -4.332  -1.1073\n",
       "5            ห้อง  0.171877  2.696733   Topic3   -4.332  -1.1045\n",
       "2          ดีไซน์  0.171877  2.010841   Topic3   -4.332  -0.8110\n",
       "\n",
       "[136 rows x 6 columns], token_table=      Topic      Freq           Term\n",
       "term                                \n",
       "0         1  0.588665    paddleboard\n",
       "0         2  0.294333    paddleboard\n",
       "25        2  0.759009     paddlebord\n",
       "11        3  0.871651     การถ่ายรูป\n",
       "23        2  0.998304        กิจกรรม\n",
       "32        1  0.754743           คยัค\n",
       "1         1  0.739596          คายัค\n",
       "1         2  0.369798          คายัค\n",
       "2         1  0.497304         ดีไซน์\n",
       "2         2  0.497304         ดีไซน์\n",
       "19        1  0.543306           ดูแล\n",
       "19        3  0.543306           ดูแล\n",
       "17        2  0.759009         ตกแต่ง\n",
       "3         1  0.754743       ตัวอาคาร\n",
       "15        2  0.843928        ถ่ายรูป\n",
       "12        2  0.545513           ทะเล\n",
       "12        3  0.545513           ทะเล\n",
       "13        2  0.545513         ที่พัก\n",
       "13        3  0.545513         ที่พัก\n",
       "35        1  0.754743        น้ำทะเล\n",
       "18        2  0.759009       บรรยากาศ\n",
       "4         1  0.560875        พนักงาน\n",
       "4         3  0.560875        พนักงาน\n",
       "34        1  0.370819  พนักงานบริการ\n",
       "34        2  0.741638  พนักงานบริการ\n",
       "26        2  0.759009     พระอาทิตย์\n",
       "14        1  0.543306         ริมหาด\n",
       "14        3  0.543306         ริมหาด\n",
       "27        2  0.759009            วิว\n",
       "24        2  0.759009            สระ\n",
       "20        3  0.871651          สะอาด\n",
       "36        1  0.754743        หาดทราย\n",
       "5         1  0.370819           ห้อง\n",
       "5         2  0.741638           ห้อง\n",
       "16        3  0.600985        ห้องพัก\n",
       "21        2  0.545513          อร่อย\n",
       "21        3  0.545513          อร่อย\n",
       "22        2  0.545513          อาหาร\n",
       "22        3  0.545513          อาหาร\n",
       "28        1  0.754743      อาหารเช้า\n",
       "29        1  0.754743    เครื่องดื่ม\n",
       "6         1  0.754743          เตียง\n",
       "7         1  0.489787           เรือ\n",
       "7         2  0.489787           เรือ\n",
       "8         1  0.754743       เส้นโค้ง\n",
       "9         1  0.754743         แปลกตา\n",
       "30        1  0.754743           โชว์\n",
       "33        1  0.754743          ใส่ใจ\n",
       "10        1  0.754743         ได้รูป\n",
       "31        1  0.754743             ไฟ, R=30, lambda_step=0.01, plot_opts={'xlab': 'PC1', 'ylab': 'PC2'}, topic_order=[3, 2, 1])"
      ]
     },
     "execution_count": 636,
     "metadata": {},
     "output_type": "execute_result"
    }
   ],
   "source": [
    "pyLDAvis.gensim.prepare(model, gensim_corpus, dictionary)"
   ]
  },
  {
   "cell_type": "code",
   "execution_count": 637,
   "id": "34830b2f",
   "metadata": {
    "scrolled": true
   },
   "outputs": [
    {
     "data": {
      "text/plain": [
       "[('ถ่ายรูป', 0.16006954),\n",
       " ('พนักงานบริการ', 0.059371267),\n",
       " ('เรือ', 0.05937088),\n",
       " ('ห้อง', 0.059370782),\n",
       " ('กิจกรรม', 0.059370685),\n",
       " ('ทะเล', 0.03392615),\n",
       " ('ที่พัก', 0.033926148),\n",
       " ('อาหาร', 0.033926137),\n",
       " ('อร่อย', 0.033926137),\n",
       " ('paddleboard', 0.03392613)]"
      ]
     },
     "execution_count": 637,
     "metadata": {},
     "output_type": "execute_result"
    }
   ],
   "source": [
    "model.show_topic(1)"
   ]
  },
  {
   "cell_type": "code",
   "execution_count": 638,
   "id": "36c6aa8b",
   "metadata": {},
   "outputs": [],
   "source": [
    "df['topics'] = df['Review_tokenized'].apply(lambda x: model.get_document_topics(dictionary.doc2bow(x.split(',')))[0][0])\n",
    "df['score'] = df['Review_tokenized'].apply(lambda x: model.get_document_topics(dictionary.doc2bow(x.split(',')))[0][1])"
   ]
  },
  {
   "cell_type": "code",
   "execution_count": 639,
   "id": "32503f88",
   "metadata": {
    "scrolled": true
   },
   "outputs": [
    {
     "data": {
      "text/html": [
       "<div>\n",
       "<style scoped>\n",
       "    .dataframe tbody tr th:only-of-type {\n",
       "        vertical-align: middle;\n",
       "    }\n",
       "\n",
       "    .dataframe tbody tr th {\n",
       "        vertical-align: top;\n",
       "    }\n",
       "\n",
       "    .dataframe thead th {\n",
       "        text-align: right;\n",
       "    }\n",
       "</style>\n",
       "<table border=\"1\" class=\"dataframe\">\n",
       "  <thead>\n",
       "    <tr style=\"text-align: right;\">\n",
       "      <th></th>\n",
       "      <th>ReviewID</th>\n",
       "      <th>Review</th>\n",
       "      <th>Review_tokenized</th>\n",
       "      <th>topics</th>\n",
       "      <th>score</th>\n",
       "    </tr>\n",
       "  </thead>\n",
       "  <tbody>\n",
       "    <tr>\n",
       "      <th>0</th>\n",
       "      <td>1</td>\n",
       "      <td>ดีไซน์เป็นเส้นโค้งแปลกตา ตัวอาคารสีขาวมินิมอล ...</td>\n",
       "      <td>ดีไซน์,เส้นโค้ง,แปลกตา,ตัวอาคาร,ได้รูป,พนักงาน...</td>\n",
       "      <td>2</td>\n",
       "      <td>0.988216</td>\n",
       "    </tr>\n",
       "    <tr>\n",
       "      <th>1</th>\n",
       "      <td>2</td>\n",
       "      <td>ที่พักสวย ใกล้ทะเล เหมาะแก่การถ่ายรูป พนักงานร...</td>\n",
       "      <td>ที่พัก,ทะเล,การถ่ายรูป,พนักงาน,ริมหาด</td>\n",
       "      <td>0</td>\n",
       "      <td>0.972085</td>\n",
       "    </tr>\n",
       "    <tr>\n",
       "      <th>2</th>\n",
       "      <td>3</td>\n",
       "      <td>โรงแรมที่สวยมาก มุมถ่ายรูปเยอะ พนักงานอาใจใส่ด...</td>\n",
       "      <td>ถ่ายรูป,พนักงาน,ห้องพัก</td>\n",
       "      <td>0</td>\n",
       "      <td>0.651104</td>\n",
       "    </tr>\n",
       "    <tr>\n",
       "      <th>3</th>\n",
       "      <td>4</td>\n",
       "      <td>บรรยากาศการตกแต่งดีรายละเอียดในดีไซน์ มุมถ่ายร...</td>\n",
       "      <td>บรรยากาศ,ตกแต่ง,ดีไซน์,ถ่ายรูป</td>\n",
       "      <td>0</td>\n",
       "      <td>0.010115</td>\n",
       "    </tr>\n",
       "    <tr>\n",
       "      <th>4</th>\n",
       "      <td>5</td>\n",
       "      <td>ห้องพักสะอาด การตกเเต่งสวยงาม อาหารทุกมื้ออร่อ...</td>\n",
       "      <td>ห้องพัก,สะอาด,อาหาร,อร่อย,พนักงาน,ดูแล</td>\n",
       "      <td>0</td>\n",
       "      <td>0.976597</td>\n",
       "    </tr>\n",
       "  </tbody>\n",
       "</table>\n",
       "</div>"
      ],
      "text/plain": [
       "   ReviewID                                             Review  \\\n",
       "0         1  ดีไซน์เป็นเส้นโค้งแปลกตา ตัวอาคารสีขาวมินิมอล ...   \n",
       "1         2  ที่พักสวย ใกล้ทะเล เหมาะแก่การถ่ายรูป พนักงานร...   \n",
       "2         3  โรงแรมที่สวยมาก มุมถ่ายรูปเยอะ พนักงานอาใจใส่ด...   \n",
       "3         4  บรรยากาศการตกแต่งดีรายละเอียดในดีไซน์ มุมถ่ายร...   \n",
       "4         5  ห้องพักสะอาด การตกเเต่งสวยงาม อาหารทุกมื้ออร่อ...   \n",
       "\n",
       "                                    Review_tokenized  topics     score  \n",
       "0  ดีไซน์,เส้นโค้ง,แปลกตา,ตัวอาคาร,ได้รูป,พนักงาน...       2  0.988216  \n",
       "1              ที่พัก,ทะเล,การถ่ายรูป,พนักงาน,ริมหาด       0  0.972085  \n",
       "2                            ถ่ายรูป,พนักงาน,ห้องพัก       0  0.651104  \n",
       "3                     บรรยากาศ,ตกแต่ง,ดีไซน์,ถ่ายรูป       0  0.010115  \n",
       "4             ห้องพัก,สะอาด,อาหาร,อร่อย,พนักงาน,ดูแล       0  0.976597  "
      ]
     },
     "execution_count": 639,
     "metadata": {},
     "output_type": "execute_result"
    }
   ],
   "source": [
    "df.head()"
   ]
  },
  {
   "cell_type": "code",
   "execution_count": null,
   "id": "846267f9",
   "metadata": {},
   "outputs": [],
   "source": []
  },
  {
   "cell_type": "code",
   "execution_count": 640,
   "id": "2410463e",
   "metadata": {
    "scrolled": true
   },
   "outputs": [],
   "source": [
    "df.to_excel('/Users/nunna/iCloudDrive/MADT/เทอม3_2565/MADT8101/Homework/6 VOC/ResultVOC_Samui.xlsx', index=False)"
   ]
  },
  {
   "cell_type": "code",
   "execution_count": null,
   "id": "65510494",
   "metadata": {},
   "outputs": [],
   "source": []
  },
  {
   "cell_type": "code",
   "execution_count": null,
   "id": "75ebbeed",
   "metadata": {},
   "outputs": [],
   "source": []
  }
 ],
 "metadata": {
  "kernelspec": {
   "display_name": "Python 3 (ipykernel)",
   "language": "python",
   "name": "python3"
  },
  "language_info": {
   "codemirror_mode": {
    "name": "ipython",
    "version": 3
   },
   "file_extension": ".py",
   "mimetype": "text/x-python",
   "name": "python",
   "nbconvert_exporter": "python",
   "pygments_lexer": "ipython3",
   "version": "3.10.9"
  }
 },
 "nbformat": 4,
 "nbformat_minor": 5
}
